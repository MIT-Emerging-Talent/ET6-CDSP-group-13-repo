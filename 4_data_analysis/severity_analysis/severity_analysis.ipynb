{
 "cells": [
  {
   "cell_type": "markdown",
   "id": "5ba03eeb",
   "metadata": {},
   "source": [
    "Import Libraries and Load Data"
   ]
  },
  {
   "cell_type": "code",
   "execution_count": 9,
   "id": "e1e7cb04",
   "metadata": {},
   "outputs": [
    {
     "data": {
      "text/html": [
       "<div>\n",
       "<style scoped>\n",
       "    .dataframe tbody tr th:only-of-type {\n",
       "        vertical-align: middle;\n",
       "    }\n",
       "\n",
       "    .dataframe tbody tr th {\n",
       "        vertical-align: top;\n",
       "    }\n",
       "\n",
       "    .dataframe thead th {\n",
       "        text-align: right;\n",
       "    }\n",
       "</style>\n",
       "<table border=\"1\" class=\"dataframe\">\n",
       "  <thead>\n",
       "    <tr style=\"text-align: right;\">\n",
       "      <th></th>\n",
       "      <th>ISO3</th>\n",
       "      <th>Year</th>\n",
       "      <th>severity_score</th>\n",
       "      <th>crisis_flag</th>\n",
       "    </tr>\n",
       "  </thead>\n",
       "  <tbody>\n",
       "    <tr>\n",
       "      <th>0</th>\n",
       "      <td>AFG</td>\n",
       "      <td>2020</td>\n",
       "      <td>4.6</td>\n",
       "      <td>1</td>\n",
       "    </tr>\n",
       "    <tr>\n",
       "      <th>1</th>\n",
       "      <td>AFG</td>\n",
       "      <td>2021</td>\n",
       "      <td>4.7</td>\n",
       "      <td>1</td>\n",
       "    </tr>\n",
       "    <tr>\n",
       "      <th>2</th>\n",
       "      <td>AFG</td>\n",
       "      <td>2022</td>\n",
       "      <td>4.5</td>\n",
       "      <td>1</td>\n",
       "    </tr>\n",
       "    <tr>\n",
       "      <th>3</th>\n",
       "      <td>AFG</td>\n",
       "      <td>2023</td>\n",
       "      <td>4.4</td>\n",
       "      <td>1</td>\n",
       "    </tr>\n",
       "    <tr>\n",
       "      <th>4</th>\n",
       "      <td>AFG</td>\n",
       "      <td>2024</td>\n",
       "      <td>4.4</td>\n",
       "      <td>1</td>\n",
       "    </tr>\n",
       "  </tbody>\n",
       "</table>\n",
       "</div>"
      ],
      "text/plain": [
       "  ISO3  Year  severity_score  crisis_flag\n",
       "0  AFG  2020             4.6            1\n",
       "1  AFG  2021             4.7            1\n",
       "2  AFG  2022             4.5            1\n",
       "3  AFG  2023             4.4            1\n",
       "4  AFG  2024             4.4            1"
      ]
     },
     "execution_count": 9,
     "metadata": {},
     "output_type": "execute_result"
    }
   ],
   "source": [
    "import pandas as pd\n",
    "import matplotlib.pyplot as plt\n",
    "import seaborn as sns\n",
    "\n",
    "# Load the processed severity dataset\n",
    "file_path = r'D:\\ET6-CDSP-group-13-repo\\2_data_preparation\\processed\\crisis_severity_2019-24.csv'\n",
    "df = pd.read_csv(file_path)\n",
    "df.head()"
   ]
  },
  {
   "cell_type": "markdown",
   "id": "00588345",
   "metadata": {},
   "source": [
    "## Research Questions\n",
    "- Does severity score predict crisis flag?\n",
    "- How does severity vary by year and country?\n",
    "- Are there significant trends in severity over time?"
   ]
  },
  {
   "cell_type": "markdown",
   "id": "f0badd62",
   "metadata": {},
   "source": [
    "Prepare and Summarize Data"
   ]
  },
  {
   "cell_type": "code",
   "execution_count": 10,
   "id": "232ff072",
   "metadata": {},
   "outputs": [
    {
     "name": "stdout",
     "output_type": "stream",
     "text": [
      "ISO3              0\n",
      "Year              0\n",
      "severity_score    0\n",
      "crisis_flag       0\n",
      "dtype: int64\n",
      "0\n",
      "              Year  severity_score  crisis_flag\n",
      "count   400.000000      400.000000   400.000000\n",
      "mean   2022.187500        3.027500     0.677500\n",
      "std       1.400803        0.945292     0.468019\n",
      "min    2020.000000        1.100000     0.000000\n",
      "25%    2021.000000        2.300000     0.000000\n",
      "50%    2022.000000        3.000000     1.000000\n",
      "75%    2023.000000        3.800000     1.000000\n",
      "max    2024.000000        5.000000     1.000000\n"
     ]
    }
   ],
   "source": [
    "# Check for missing values and duplicates\n",
    "print(df.isnull().sum())\n",
    "print(df.duplicated(subset=['ISO3', 'Year']).sum())\n",
    "\n",
    "# Basic statistics\n",
    "print(df.describe())"
   ]
  },
  {
   "cell_type": "code",
   "execution_count": 11,
   "id": "860fc90f",
   "metadata": {},
   "outputs": [
    {
     "name": "stdout",
     "output_type": "stream",
     "text": [
      "0\n",
      "              Year  severity_score  crisis_flag\n",
      "count   400.000000      400.000000   400.000000\n",
      "mean   2022.187500        3.027500     0.677500\n",
      "std       1.400803        0.945292     0.468019\n",
      "min    2020.000000        1.100000     0.000000\n",
      "25%    2021.000000        2.300000     0.000000\n",
      "50%    2022.000000        3.000000     1.000000\n",
      "75%    2023.000000        3.800000     1.000000\n",
      "max    2024.000000        5.000000     1.000000\n"
     ]
    }
   ],
   "source": [
    "print(df.duplicated(subset=['ISO3', 'Year']).sum())\n",
    "\n",
    "# Basic statistics\n",
    "print(df.describe())"
   ]
  },
  {
   "cell_type": "code",
   "execution_count": 12,
   "id": "b5d4d1f4",
   "metadata": {},
   "outputs": [
    {
     "name": "stdout",
     "output_type": "stream",
     "text": [
      "Warning: Maximum number of iterations has been exceeded.\n",
      "         Current function value: 0.000000\n",
      "         Iterations: 35\n",
      "                           Logit Regression Results                           \n",
      "==============================================================================\n",
      "Dep. Variable:            crisis_flag   No. Observations:                  400\n",
      "Model:                          Logit   Df Residuals:                      398\n",
      "Method:                           MLE   Df Model:                            1\n",
      "Date:                Mon, 11 Aug 2025   Pseudo R-squ.:                   1.000\n",
      "Time:                        13:06:43   Log-Likelihood:            -7.9695e-06\n",
      "converged:                      False   LL-Null:                       -251.50\n",
      "Covariance Type:            nonrobust   LLR p-value:                2.124e-111\n",
      "==================================================================================\n",
      "                     coef    std err          z      P>|z|      [0.025      0.975]\n",
      "----------------------------------------------------------------------------------\n",
      "const           -749.1900   1.74e+04     -0.043      0.966   -3.48e+04    3.33e+04\n",
      "severity_score   305.8341   7085.672      0.043      0.966   -1.36e+04    1.42e+04\n",
      "==================================================================================\n",
      "\n",
      "Complete Separation: The results show that there iscomplete separation or perfect prediction.\n",
      "In this case the Maximum Likelihood Estimator does not exist and the parameters\n",
      "are not identified.\n"
     ]
    },
    {
     "name": "stderr",
     "output_type": "stream",
     "text": [
      "c:\\Users\\MHSN\\anaconda3\\Lib\\site-packages\\statsmodels\\base\\model.py:607: ConvergenceWarning: Maximum Likelihood optimization failed to converge. Check mle_retvals\n",
      "  warnings.warn(\"Maximum Likelihood optimization failed to \"\n"
     ]
    }
   ],
   "source": [
    "import statsmodels.api as sm\n",
    "\n",
    "X = df['severity_score']\n",
    "y = df['crisis_flag']\n",
    "\n",
    "X = sm.add_constant(X)\n",
    "model = sm.Logit(y, X).fit()\n",
    "print(model.summary())"
   ]
  },
  {
   "cell_type": "code",
   "execution_count": 13,
   "id": "982b038d",
   "metadata": {},
   "outputs": [
    {
     "name": "stdout",
     "output_type": "stream",
     "text": [
      "ANOVA F-statistic: 1.678154674891073\n",
      "ANOVA p-value: 0.15420962103691527\n"
     ]
    }
   ],
   "source": [
    "import scipy.stats as stats\n",
    "\n",
    "groups = [df[df['Year'] == year]['severity_score'].dropna() for year in df['Year'].unique()]\n",
    "anova_result = stats.f_oneway(*groups)\n",
    "print(\"ANOVA F-statistic:\", anova_result.statistic)\n",
    "print(\"ANOVA p-value:\", anova_result.pvalue)"
   ]
  },
  {
   "cell_type": "code",
   "execution_count": 14,
   "id": "075fdfc6",
   "metadata": {},
   "outputs": [
    {
     "data": {
      "image/png": "[encoded data removed]",
      "text/plain": [
       "<Figure size 800x500 with 1 Axes>"
      ]
     },
     "metadata": {},
     "output_type": "display_data"
    },
    {
     "data": {
      "image/png": "[encoded data removed]",
      "text/plain": [
       "<Figure size 1000x600 with 1 Axes>"
      ]
     },
     "metadata": {},
     "output_type": "display_data"
    }
   ],
   "source": [
    "# Severity score by year\n",
    "plt.figure(figsize=(8, 5))\n",
    "sns.boxplot(x='Year', y='severity_score', data=df)\n",
    "plt.title('Severity Score by Year')\n",
    "plt.show()\n",
    "\n",
    "# Severity score by country (top 10)\n",
    "top_countries = df['ISO3'].value_counts().head(10).index\n",
    "plt.figure(figsize=(10, 6))\n",
    "sns.boxplot(x='ISO3', y='severity_score', data=df[df['ISO3'].isin(top_countries)])\n",
    "plt.title('Severity Score by Country (Top 10)')\n",
    "plt.show()"
   ]
  },
  {
   "cell_type": "markdown",
   "id": "286b94ca",
   "metadata": {},
   "source": [
    "## Interpretation and Findings\n",
    "\n",
    "### 1. Data Quality\n",
    "- **No missing values** in any column (`ISO3`, `Year`, `severity_score`, `crisis_flag`).\n",
    "- **No duplicate country-year rows** detected.\n",
    "- The dataset covers 400 country-year observations from 2020 to 2024.\n",
    "\n",
    "### 2. Severity Score and Crisis Flag\n",
    "- **Severity scores** range from 1.1 to 5.0, with a mean of 3.03.\n",
    "- **Crisis flag** is set to `1` for severity scores ≥ 2.5, and `0` otherwise.\n",
    "- About **68% of country-years are flagged as crisis** (`crisis_flag = 1`).\n",
    "\n",
    "### 3. Logistic Regression (Severity Score → Crisis Flag)\n",
    "- The model failed to converge and shows **complete separation**. This means the severity score perfectly predicts the crisis flag (as expected, since the flag is directly derived from the score).\n",
    "- **Limitation:** Logistic regression is not informative here because the relationship is deterministic, not statistical.\n",
    "\n",
    "### 4. Severity Trends by Year (ANOVA)\n",
    "- **ANOVA F-statistic:** 1.68\n",
    "- **ANOVA p-value:** 0.15\n",
    "- **Interpretation:** There is **no statistically significant difference** in severity scores across years (p > 0.05).\n",
    "\n",
    "### 5. Summary of Key Findings\n",
    "- **Severity score is a perfect predictor of crisis flag** due to how the flag is defined.\n",
    "- **No significant trend in severity scores over time** (2020–2024).\n",
    "- **Most country-years are in crisis**, with severity scores generally above the threshold.\n",
    "\n",
    "### 6. Limitations\n",
    "- The crisis flag is not independent of severity score, so predictive modeling is not meaningful.\n",
    "- The analysis does not account for other factors (e.g., region, crisis type).\n",
    "- ANOVA only tests for differences in means, not other distributional changes.\n",
    "\n",
    "---\n",
    "\n",
    "**Next Steps:**  \n",
    "Consider exploring other variables or external datasets for deeper insights, such as comparing severity with conflict events"
   ]
  }
 ],
 "metadata": {
  "kernelspec": {
   "display_name": "base",
   "language": "python",
   "name": "python3"
  },
  "language_info": {
   "codemirror_mode": {
    "name": "ipython",
    "version": 3
   },
   "file_extension": ".py",
   "mimetype": "text/x-python",
   "name": "python",
   "nbconvert_exporter": "python",
   "pygments_lexer": "ipython3",
   "version": "3.12.7"
  }
 },
 "nbformat": 4,
 "nbformat_minor": 5
}
