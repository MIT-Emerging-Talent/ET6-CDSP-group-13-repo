{
 "cells": [
  {
   "cell_type": "code",
   "execution_count": null,
   "id": "42b36a37",
   "metadata": {},
   "outputs": [],
   "source": [
    "# Install required packages\n",
    "!pip install matplotlib"
   ]
  },
  {
   "cell_type": "markdown",
   "id": "dede95a8",
   "metadata": {},
   "source": [
    "# USDT Volume and CEX Access Timeline (2019–2024)\n",
    "\n",
    "This notebook analyzes the daily trading volume of USDT across major centralized\n",
    "exchanges and overlays key access events in countries under currency stress.\n",
    "\n",
    "We highlight the accessibility timeline for Nigeria, Sudan, Lebanon, and\n",
    "Afghanistan — especially on Binance — and how that relates to observed volume\n",
    "shifts.\n"
   ]
  },
  {
   "cell_type": "code",
   "execution_count": null,
   "id": "0e56e153",
   "metadata": {},
   "outputs": [],
   "source": [
    "import pandas as pd\n",
    "import matplotlib.pyplot as plt\n",
    "\n",
    "# Load the volume dataset\n",
    "volume = pd.read_csv(\"central_exchange_daily_volume_2019-24.csv\", parse_dates=[\"date\"])\n",
    "\n",
    "# Filter to USDT only\n",
    "usdt_volume = volume[volume[\"asset\"].str.upper() == \"USDT\"]\n",
    "\n",
    "usdt_volume.head()\n"
   ]
  },
  {
   "cell_type": "markdown",
   "id": "cde91bf7",
   "metadata": {},
   "source": [
    "## Total USDT Volume Over Time (All Exchanges Combined)"
   ]
  },
  {
   "cell_type": "code",
   "execution_count": null,
   "id": "e22d53f5",
   "metadata": {},
   "outputs": [],
   "source": [
    "total_volume = usdt_volume.groupby(\"date\")[\"volume_usd\"].sum()\n",
    "\n",
    "plt.figure(figsize=(12, 4))\n",
    "total_volume.plot(title=\"Total USDT Volume Across All CEXs (2019–2024)\")\n",
    "plt.ylabel(\"Volume (USD)\")\n",
    "plt.xlabel(\"Date\")\n",
    "plt.grid(True)\n",
    "plt.tight_layout()\n",
    "plt.show()\n"
   ]
  },
  {
   "cell_type": "markdown",
   "id": "ca0206e1",
   "metadata": {},
   "source": [
    "## USDT Volume by Exchange"
   ]
  },
  {
   "cell_type": "code",
   "execution_count": null,
   "id": "50212138",
   "metadata": {},
   "outputs": [],
   "source": [
    "exchange_volume = usdt_volume.pivot_table(index=\"date\", columns=\"exchange\", values=\"volume_usd\", aggfunc=\"sum\")\n",
    "\n",
    "plt.figure(figsize=(14, 5))\n",
    "exchange_volume.plot()\n",
    "plt.title(\"USDT Volume by Exchange\")\n",
    "plt.ylabel(\"Volume (USD)\")\n",
    "plt.xlabel(\"Date\")\n",
    "plt.legend(title=\"Exchange\")\n",
    "plt.grid(True)\n",
    "plt.tight_layout()\n",
    "plt.show()\n"
   ]
  },
  {
   "cell_type": "markdown",
   "id": "c00665ff",
   "metadata": {},
   "source": [
    "## Binance Volume with Country Access Annotations"
   ]
  },
  {
   "cell_type": "code",
   "execution_count": null,
   "id": "51ca005c",
   "metadata": {},
   "outputs": [],
   "source": [
    "binance = usdt_volume[usdt_volume[\"exchange\"] == \"binance\"].set_index(\"date\").sort_index()\n",
    "\n",
    "fig, ax = plt.subplots(figsize=(12, 4))\n",
    "binance[\"volume_usd\"].plot(ax=ax, label=\"Binance USDT Volume\", color=\"blue\")\n",
    "ax.set_title(\"Binance USDT Volume with Country Access Dates\")\n",
    "ax.set_ylabel(\"Volume (USD)\")\n",
    "ax.set_xlabel(\"Date\")\n",
    "ax.grid(True)\n",
    "\n",
    "events = {\n",
    "    \"Nigeria\": \"2019-01-01\",\n",
    "    \"Sudan\": \"2020-01-01\",\n",
    "    \"Lebanon\": \"2020-06-01\",\n",
    "    \"Afghanistan\": \"2021-01-01\"\n",
    "}\n",
    "\n",
    "for i, (country, date_str) in enumerate(events.items()):\n",
    "    date = pd.to_datetime(date_str)\n",
    "    ax.axvline(date, color=\"red\", linestyle=\"--\", alpha=0.8)\n",
    "    ax.annotate(\n",
    "        country,\n",
    "        xy=(date, 5e8),\n",
    "        xytext=(date, 1.5e9 - i * 1e8),\n",
    "        arrowprops=dict(arrowstyle=\"->\", color=\"black\"),\n",
    "        fontsize=10,\n",
    "        color=\"black\",\n",
    "        ha=\"left\"\n",
    "    )\n",
    "\n",
    "plt.tight_layout()\n",
    "plt.show()\n"
   ]
  }
 ],
 "metadata": {},
 "nbformat": 4,
 "nbformat_minor": 5
}
