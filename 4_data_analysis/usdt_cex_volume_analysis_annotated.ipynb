{
 "cells": [
  {
   "cell_type": "markdown",
   "id": "eb6a46fa",
   "metadata": {},
   "source": [
    "# Stablecoin Liquidity & CEX Accessibility (2019–2024)\n",
    "\n",
    "This notebook explores how accessible USDT trading was during currency-stressed periods, especially in four countries: **Nigeria, Sudan, Lebanon, and Afghanistan**.\n",
    "\n",
    "We visualize daily USDT trading volumes on centralized exchanges (CEXs), focusing on:\n",
    "\n",
    "- Overall volume growth\n",
    "- Binance dominance\n",
    "- Whether volume growth coincided with access being granted\n"
   ]
  },
  {
   "cell_type": "code",
   "execution_count": null,
   "id": "c25cd4b1",
   "metadata": {},
   "outputs": [],
   "source": [
    "import pandas as pd\n",
    "import matplotlib.pyplot as plt\n",
    "\n",
    "volume = pd.read_csv(\"central_exchange_daily_volume_2019-24.csv\", parse_dates=[\"date\"])\n",
    "usdt_volume = volume[volume[\"asset\"].str.upper() == \"USDT\"]\n",
    "usdt_volume.head()\n"
   ]
  },
  {
   "cell_type": "markdown",
   "id": "127ae621",
   "metadata": {},
   "source": [
    "## Total USDT Volume Over Time (All CEXs)"
   ]
  },
  {
   "cell_type": "code",
   "execution_count": null,
   "id": "70abc657",
   "metadata": {},
   "outputs": [],
   "source": [
    "total_volume = usdt_volume.groupby(\"date\")[\"volume_usd\"].sum()\n",
    "plt.figure(figsize=(12, 4))\n",
    "total_volume.plot()\n",
    "plt.title(\"Total USDT Volume Across All Exchanges\")\n",
    "plt.xlabel(\"Date\")\n",
    "plt.ylabel(\"Volume (USD)\")\n",
    "plt.grid(True)\n",
    "plt.tight_layout()\n",
    "plt.show()\n"
   ]
  },
  {
   "cell_type": "markdown",
   "id": "21b89e11",
   "metadata": {},
   "source": [
    "## Volume Breakdown by Exchange"
   ]
  },
  {
   "cell_type": "code",
   "execution_count": null,
   "id": "094438be",
   "metadata": {},
   "outputs": [],
   "source": [
    "exchange_volume = usdt_volume.pivot_table(index=\"date\", columns=\"exchange\", values=\"volume_usd\", aggfunc=\"sum\")\n",
    "plt.figure(figsize=(14, 5))\n",
    "exchange_volume.plot()\n",
    "plt.title(\"USDT Volume by Exchange\")\n",
    "plt.ylabel(\"Volume (USD)\")\n",
    "plt.xlabel(\"Date\")\n",
    "plt.legend(title=\"Exchange\")\n",
    "plt.grid(True)\n",
    "plt.tight_layout()\n",
    "plt.show()\n"
   ]
  },
  {
   "cell_type": "markdown",
   "id": "4cb4663c",
   "metadata": {},
   "source": [
    "## Binance Volume with Key Country Access Dates"
   ]
  },
  {
   "cell_type": "code",
   "execution_count": null,
   "id": "e13b8f4c",
   "metadata": {},
   "outputs": [],
   "source": [
    "binance = usdt_volume[usdt_volume[\"exchange\"] == \"binance\"].set_index(\"date\").sort_index()\n",
    "\n",
    "fig, ax = plt.subplots(figsize=(12, 4))\n",
    "binance[\"volume_usd\"].plot(ax=ax, label=\"Binance USDT Volume\", color=\"blue\")\n",
    "ax.set_title(\"Binance USDT Volume with Country Access Dates\")\n",
    "ax.set_ylabel(\"Volume (USD)\")\n",
    "ax.set_xlabel(\"Date\")\n",
    "ax.grid(True)\n",
    "\n",
    "events = {\n",
    "    \"Nigeria\": \"2019-01-01\",\n",
    "    \"Sudan\": \"2020-01-01\",\n",
    "    \"Lebanon\": \"2020-06-01\",\n",
    "    \"Afghanistan\": \"2021-01-01\"\n",
    "}\n",
    "\n",
    "for i, (country, date_str) in enumerate(events.items()):\n",
    "    date = pd.to_datetime(date_str)\n",
    "    ax.axvline(date, color=\"red\", linestyle=\"--\", alpha=0.8)\n",
    "    ax.annotate(\n",
    "        country,\n",
    "        xy=(date, 5e8),\n",
    "        xytext=(date, 1.5e9 - i * 1e8),\n",
    "        arrowprops=dict(arrowstyle=\"->\", color=\"black\"),\n",
    "        fontsize=10,\n",
    "        color=\"black\",\n",
    "        ha=\"left\"\n",
    "    )\n",
    "\n",
    "plt.tight_layout()\n",
    "plt.show()\n"
   ]
  },
  {
   "cell_type": "markdown",
   "id": "bbfc84f2",
   "metadata": {},
   "source": [
    "## Conclusion\n",
    "\n",
    "- Binance holds the majority of USDT volume over the 5-year period.\n",
    "- Countries under currency stress (Sudan, Nigeria, etc.) were granted access between 2019–2021.\n",
    "- Volume growth in Binance correlates with their broader accessibility in high-demand regions.\n",
    "\n",
    "These trends support the idea that centralized exchanges like Binance play a major role in global crypto accessibility — especially when fiat systems collapse.\n"
   ]
  }
 ],
 "metadata": {},
 "nbformat": 4,
 "nbformat_minor": 5
}
