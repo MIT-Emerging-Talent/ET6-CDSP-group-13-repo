{
 "cells": [
  {
   "cell_type": "markdown",
   "id": "0c373991",
   "metadata": {},
   "source": [
    "# USDT Volume and CEX Access Timeline (2019–2024)\n",
    "\n",
    "This notebook analyzes the daily trading volume of USDT across major centralized\n",
    "exchanges and overlays key access events in countries under currency stress.\n",
    "\n",
    "We highlight the accessibility timeline for Nigeria, Sudan, Lebanon, and\n",
    "Afghanistan — especially on Binance — and how that relates to observed volume\n",
    "shifts.\n"
   ]
  },
  {
   "cell_type": "code",
   "execution_count": 2,
   "id": "cc2dd351",
   "metadata": {},
   "outputs": [
    {
     "ename": "ModuleNotFoundError",
     "evalue": "No module named 'matplotlib'",
     "output_type": "error",
     "traceback": [
      "\u001b[31m---------------------------------------------------------------------------\u001b[39m",
      "\u001b[31mModuleNotFoundError\u001b[39m                       Traceback (most recent call last)",
      "\u001b[36mCell\u001b[39m\u001b[36m \u001b[39m\u001b[32mIn[2]\u001b[39m\u001b[32m, line 2\u001b[39m\n\u001b[32m      1\u001b[39m \u001b[38;5;28;01mimport\u001b[39;00m\u001b[38;5;250m \u001b[39m\u001b[34;01mpandas\u001b[39;00m\u001b[38;5;250m \u001b[39m\u001b[38;5;28;01mas\u001b[39;00m\u001b[38;5;250m \u001b[39m\u001b[34;01mpd\u001b[39;00m\n\u001b[32m----> \u001b[39m\u001b[32m2\u001b[39m \u001b[38;5;28;01mimport\u001b[39;00m\u001b[38;5;250m \u001b[39m\u001b[34;01mmatplotlib\u001b[39;00m\u001b[34;01m.\u001b[39;00m\u001b[34;01mpyplot\u001b[39;00m\u001b[38;5;250m \u001b[39m\u001b[38;5;28;01mas\u001b[39;00m\u001b[38;5;250m \u001b[39m\u001b[34;01mplt\u001b[39;00m\n\u001b[32m      3\u001b[39m \u001b[38;5;28;01mimport\u001b[39;00m\u001b[38;5;250m \u001b[39m\u001b[34;01mseaborn\u001b[39;00m\u001b[38;5;250m \u001b[39m\u001b[38;5;28;01mas\u001b[39;00m\u001b[38;5;250m \u001b[39m\u001b[34;01msns\u001b[39;00m\n\u001b[32m      5\u001b[39m \u001b[38;5;66;03m# Load the volume dataset\u001b[39;00m\n",
      "\u001b[31mModuleNotFoundError\u001b[39m: No module named 'matplotlib'"
     ]
    }
   ],
   "source": [
    "import pandas as pd\n",
    "import matplotlib.pyplot as plt\n",
    "import seaborn as sns\n",
    "\n",
    "# Load the volume dataset\n",
    "volume = pd.read_csv(\"central_exchange_daily_volume_2019-24.csv\", parse_dates=[\"date\"])\n",
    "\n",
    "# Filter to USDT only\n",
    "usdt_volume = volume[volume[\"asset\"].str.upper() == \"USDT\"]\n",
    "\n",
    "usdt_volume.head()\n"
   ]
  },
  {
   "cell_type": "markdown",
   "id": "e87e22cf",
   "metadata": {},
   "source": [
    "## Total USDT Volume Over Time (All Exchanges Combined)"
   ]
  },
  {
   "cell_type": "code",
   "execution_count": null,
   "id": "c42490d3",
   "metadata": {},
   "outputs": [],
   "source": [
    "total_volume = usdt_volume.groupby(\"date\")[\"volume_usd\"].sum()\n",
    "\n",
    "plt.figure(figsize=(12, 4))\n",
    "total_volume.plot(title=\"Total USDT Volume Across All CEXs (2019–2024)\")\n",
    "plt.ylabel(\"Volume (USD)\")\n",
    "plt.xlabel(\"Date\")\n",
    "plt.grid(True)\n",
    "plt.tight_layout()\n",
    "plt.show()\n"
   ]
  },
  {
   "cell_type": "markdown",
   "id": "ef78f24e",
   "metadata": {},
   "source": [
    "## USDT Volume by Exchange"
   ]
  },
  {
   "cell_type": "code",
   "execution_count": null,
   "id": "9ea657a6",
   "metadata": {},
   "outputs": [],
   "source": [
    "exchange_volume = usdt_volume.pivot_table(index=\"date\", columns=\"exchange\", values=\"volume_usd\", aggfunc=\"sum\")\n",
    "\n",
    "plt.figure(figsize=(14, 5))\n",
    "exchange_volume.plot()\n",
    "plt.title(\"USDT Volume by Exchange\")\n",
    "plt.ylabel(\"Volume (USD)\")\n",
    "plt.xlabel(\"Date\")\n",
    "plt.legend(title=\"Exchange\")\n",
    "plt.grid(True)\n",
    "plt.tight_layout()\n",
    "plt.show()\n"
   ]
  },
  {
   "cell_type": "markdown",
   "id": "a94bea98",
   "metadata": {},
   "source": [
    "## Binance Volume with Country Access Annotations"
   ]
  },
  {
   "cell_type": "code",
   "execution_count": null,
   "id": "7ceb3212",
   "metadata": {},
   "outputs": [],
   "source": [
    "binance = usdt_volume[usdt_volume[\"exchange\"] == \"binance\"].set_index(\"date\").sort_index()\n",
    "\n",
    "fig, ax = plt.subplots(figsize=(12, 4))\n",
    "binance[\"volume_usd\"].plot(ax=ax, label=\"Binance USDT Volume\", color=\"blue\")\n",
    "ax.set_title(\"Binance USDT Volume with Country Access Dates\")\n",
    "ax.set_ylabel(\"Volume (USD)\")\n",
    "ax.set_xlabel(\"Date\")\n",
    "ax.grid(True)\n",
    "\n",
    "# Annotate key country access dates\n",
    "events = {\n",
    "    \"Nigeria\": \"2019-01-01\",\n",
    "    \"Sudan\": \"2020-01-01\",\n",
    "    \"Lebanon\": \"2020-06-01\",\n",
    "    \"Afghanistan\": \"2021-01-01\"\n",
    "}\n",
    "\n",
    "for i, (country, date_str) in enumerate(events.items()):\n",
    "    date = pd.to_datetime(date_str)\n",
    "    ax.axvline(date, color=\"red\", linestyle=\"--\", alpha=0.8)\n",
    "    ax.annotate(\n",
    "        country,\n",
    "        xy=(date, 5e8),  # fixed y-position\n",
    "        xytext=(date, 1.5e9 - i*1e8),  # staggered to avoid overlap\n",
    "        arrowprops=dict(arrowstyle=\"->\", color=\"black\"),\n",
    "        fontsize=10,\n",
    "        color=\"black\",\n",
    "        ha=\"left\"\n",
    "    )\n",
    "\n",
    "plt.tight_layout()\n",
    "plt.show()\n"
   ]
  }
 ],
 "metadata": {
  "kernelspec": {
   "display_name": "Python 3",
   "language": "python",
   "name": "python3"
  },
  "language_info": {
   "codemirror_mode": {
    "name": "ipython",
    "version": 3
   },
   "file_extension": ".py",
   "mimetype": "text/x-python",
   "name": "python",
   "nbconvert_exporter": "python",
   "pygments_lexer": "ipython3",
   "version": "3.13.5"
  }
 },
 "nbformat": 4,
 "nbformat_minor": 5
}
